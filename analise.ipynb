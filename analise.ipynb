{
 "cells": [
  {
   "cell_type": "markdown",
   "metadata": {},
   "source": [
    "# Análise Exploratória de Dados"
   ]
  },
  {
   "cell_type": "markdown",
   "metadata": {},
   "source": [
    "Análise do mercado de aluguéis temporários na cidade de Nova York (EUA).\n",
    "\n",
    "Dados disponibilizados pela Indicium para a realização do desafio Lighthouse.\n",
    "\n",
    "Autor: Raphael Fleury"
   ]
  },
  {
   "cell_type": "markdown",
   "metadata": {},
   "source": [
    "## Objetivo\n",
    "O objetivo desta análise é identificar quais fatores mais interferem no preço dos apartamentos e a partir disso responder as seguintes perguntas:\n",
    "- Supondo que uma pessoa esteja pensando em investir em um apartamento para alugar na plataforma, onde seria mais indicada a compra?\n",
    "- O número mínimo de noites e a disponibilidade ao longo do ano interferem no preço?\n",
    "- Existe algum padrão no texto do nome do local para lugares de mais alto valor?\n",
    "\n",
    "Além disso, estes dados também serão usados para desenvolver um modelo de previsão de preços."
   ]
  },
  {
   "cell_type": "markdown",
   "metadata": {},
   "source": [
    "## Estratégia\n",
    "Para obter um resultado preciso sobre como o preço se altera conforme as características do apartamento, serão adotados os seguintes passos:\n",
    "- Limpeza dos dados, removendo outliers que podem distorcer as estatísticas\n",
    "- Transformação de variáveis qualitativas em quantitativas para calcular sua correlação com o preço\n",
    "- Inserção de informações sobre os bairros a partir de outra base de dados para saber como cada característica interfere no preço"
   ]
  },
  {
   "cell_type": "markdown",
   "metadata": {},
   "source": [
    "## 1. Análise e limpeza dos dados"
   ]
  },
  {
   "cell_type": "markdown",
   "metadata": {},
   "source": [
    "### 1.1. Análise inicial, ajustes de tipo e tratamento de nulos"
   ]
  },
  {
   "cell_type": "markdown",
   "metadata": {},
   "source": [
    "Leitura do CSV:"
   ]
  },
  {
   "cell_type": "code",
   "execution_count": 310,
   "metadata": {},
   "outputs": [],
   "source": [
    "import pandas as pd\n",
    "apartamentos = pd.read_csv('./datasets/precificacao.csv')"
   ]
  },
  {
   "cell_type": "markdown",
   "metadata": {},
   "source": [
    "Visualização dos dados:"
   ]
  },
  {
   "cell_type": "code",
   "execution_count": 311,
   "metadata": {},
   "outputs": [
    {
     "data": {
      "text/html": [
       "<div>\n",
       "<style scoped>\n",
       "    .dataframe tbody tr th:only-of-type {\n",
       "        vertical-align: middle;\n",
       "    }\n",
       "\n",
       "    .dataframe tbody tr th {\n",
       "        vertical-align: top;\n",
       "    }\n",
       "\n",
       "    .dataframe thead th {\n",
       "        text-align: right;\n",
       "    }\n",
       "</style>\n",
       "<table border=\"1\" class=\"dataframe\">\n",
       "  <thead>\n",
       "    <tr style=\"text-align: right;\">\n",
       "      <th></th>\n",
       "      <th>id</th>\n",
       "      <th>nome</th>\n",
       "      <th>host_id</th>\n",
       "      <th>host_name</th>\n",
       "      <th>bairro_group</th>\n",
       "      <th>bairro</th>\n",
       "      <th>latitude</th>\n",
       "      <th>longitude</th>\n",
       "      <th>room_type</th>\n",
       "      <th>price</th>\n",
       "      <th>minimo_noites</th>\n",
       "      <th>numero_de_reviews</th>\n",
       "      <th>ultima_review</th>\n",
       "      <th>reviews_por_mes</th>\n",
       "      <th>calculado_host_listings_count</th>\n",
       "      <th>disponibilidade_365</th>\n",
       "    </tr>\n",
       "  </thead>\n",
       "  <tbody>\n",
       "    <tr>\n",
       "      <th>0</th>\n",
       "      <td>2595</td>\n",
       "      <td>Skylit Midtown Castle</td>\n",
       "      <td>2845</td>\n",
       "      <td>Jennifer</td>\n",
       "      <td>Manhattan</td>\n",
       "      <td>Midtown</td>\n",
       "      <td>40.75362</td>\n",
       "      <td>-73.98377</td>\n",
       "      <td>Entire home/apt</td>\n",
       "      <td>225</td>\n",
       "      <td>1</td>\n",
       "      <td>45</td>\n",
       "      <td>2019-05-21</td>\n",
       "      <td>0.38</td>\n",
       "      <td>2</td>\n",
       "      <td>355</td>\n",
       "    </tr>\n",
       "    <tr>\n",
       "      <th>1</th>\n",
       "      <td>3647</td>\n",
       "      <td>THE VILLAGE OF HARLEM....NEW YORK !</td>\n",
       "      <td>4632</td>\n",
       "      <td>Elisabeth</td>\n",
       "      <td>Manhattan</td>\n",
       "      <td>Harlem</td>\n",
       "      <td>40.80902</td>\n",
       "      <td>-73.94190</td>\n",
       "      <td>Private room</td>\n",
       "      <td>150</td>\n",
       "      <td>3</td>\n",
       "      <td>0</td>\n",
       "      <td>NaN</td>\n",
       "      <td>NaN</td>\n",
       "      <td>1</td>\n",
       "      <td>365</td>\n",
       "    </tr>\n",
       "  </tbody>\n",
       "</table>\n",
       "</div>"
      ],
      "text/plain": [
       "     id                                 nome  host_id  host_name bairro_group  \\\n",
       "0  2595                Skylit Midtown Castle     2845   Jennifer    Manhattan   \n",
       "1  3647  THE VILLAGE OF HARLEM....NEW YORK !     4632  Elisabeth    Manhattan   \n",
       "\n",
       "    bairro  latitude  longitude        room_type  price  minimo_noites  \\\n",
       "0  Midtown  40.75362  -73.98377  Entire home/apt    225              1   \n",
       "1   Harlem  40.80902  -73.94190     Private room    150              3   \n",
       "\n",
       "   numero_de_reviews ultima_review  reviews_por_mes  \\\n",
       "0                 45    2019-05-21             0.38   \n",
       "1                  0           NaN              NaN   \n",
       "\n",
       "   calculado_host_listings_count  disponibilidade_365  \n",
       "0                              2                  355  \n",
       "1                              1                  365  "
      ]
     },
     "execution_count": 311,
     "metadata": {},
     "output_type": "execute_result"
    }
   ],
   "source": [
    "apartamentos.head(2)"
   ]
  },
  {
   "cell_type": "markdown",
   "metadata": {},
   "source": [
    "Analisando o tipo de cada coluna e o número de valores não-nulos:"
   ]
  },
  {
   "cell_type": "code",
   "execution_count": 312,
   "metadata": {},
   "outputs": [
    {
     "name": "stdout",
     "output_type": "stream",
     "text": [
      "<class 'pandas.core.frame.DataFrame'>\n",
      "RangeIndex: 48894 entries, 0 to 48893\n",
      "Data columns (total 16 columns):\n",
      " #   Column                         Non-Null Count  Dtype  \n",
      "---  ------                         --------------  -----  \n",
      " 0   id                             48894 non-null  int64  \n",
      " 1   nome                           48878 non-null  object \n",
      " 2   host_id                        48894 non-null  int64  \n",
      " 3   host_name                      48873 non-null  object \n",
      " 4   bairro_group                   48894 non-null  object \n",
      " 5   bairro                         48894 non-null  object \n",
      " 6   latitude                       48894 non-null  float64\n",
      " 7   longitude                      48894 non-null  float64\n",
      " 8   room_type                      48894 non-null  object \n",
      " 9   price                          48894 non-null  int64  \n",
      " 10  minimo_noites                  48894 non-null  int64  \n",
      " 11  numero_de_reviews              48894 non-null  int64  \n",
      " 12  ultima_review                  38842 non-null  object \n",
      " 13  reviews_por_mes                38842 non-null  float64\n",
      " 14  calculado_host_listings_count  48894 non-null  int64  \n",
      " 15  disponibilidade_365            48894 non-null  int64  \n",
      "dtypes: float64(3), int64(7), object(6)\n",
      "memory usage: 6.0+ MB\n"
     ]
    }
   ],
   "source": [
    "apartamentos.info()"
   ]
  },
  {
   "cell_type": "markdown",
   "metadata": {},
   "source": [
    "Convertendo a coluna \"ultima_review\" para o formato adequado, de texto para data:"
   ]
  },
  {
   "cell_type": "code",
   "execution_count": 313,
   "metadata": {},
   "outputs": [
    {
     "data": {
      "text/plain": [
       "count                            38842\n",
       "mean     2018-10-04 01:46:50.710055936\n",
       "min                2011-03-28 00:00:00\n",
       "25%                2018-07-08 00:00:00\n",
       "50%                2019-05-19 00:00:00\n",
       "75%                2019-06-23 00:00:00\n",
       "max                2019-07-08 00:00:00\n",
       "Name: ultima_review, dtype: object"
      ]
     },
     "execution_count": 313,
     "metadata": {},
     "output_type": "execute_result"
    }
   ],
   "source": [
    "apartamentos[\"ultima_review\"] = pd.to_datetime(apartamentos[\"ultima_review\"])\n",
    "apartamentos[\"ultima_review\"].describe()"
   ]
  },
  {
   "cell_type": "markdown",
   "metadata": {},
   "source": [
    "Verificando quantos valores nulos há em cada coluna:"
   ]
  },
  {
   "cell_type": "code",
   "execution_count": 314,
   "metadata": {},
   "outputs": [
    {
     "data": {
      "text/plain": [
       "nome                  16\n",
       "host_name             21\n",
       "ultima_review      10052\n",
       "reviews_por_mes    10052\n",
       "dtype: int64"
      ]
     },
     "execution_count": 314,
     "metadata": {},
     "output_type": "execute_result"
    }
   ],
   "source": [
    "# Valores nulos em cada coluna\n",
    "nulos = apartamentos.isnull().sum()\n",
    "nulos[nulos > 0]"
   ]
  },
  {
   "cell_type": "markdown",
   "metadata": {},
   "source": [
    "Substituindo valores nulos:\n",
    "- nome: substituídos por um texto vazio\n",
    "- host_name: substituídos pelo id do host\n",
    "- reviews_por_mes: substituídos por 0"
   ]
  },
  {
   "cell_type": "code",
   "execution_count": 315,
   "metadata": {},
   "outputs": [
    {
     "name": "stdout",
     "output_type": "stream",
     "text": [
      "<class 'pandas.core.frame.DataFrame'>\n",
      "RangeIndex: 48894 entries, 0 to 48893\n",
      "Data columns (total 16 columns):\n",
      " #   Column                         Non-Null Count  Dtype         \n",
      "---  ------                         --------------  -----         \n",
      " 0   id                             48894 non-null  int64         \n",
      " 1   nome                           48894 non-null  object        \n",
      " 2   host_id                        48894 non-null  int64         \n",
      " 3   host_name                      48894 non-null  object        \n",
      " 4   bairro_group                   48894 non-null  object        \n",
      " 5   bairro                         48894 non-null  object        \n",
      " 6   latitude                       48894 non-null  float64       \n",
      " 7   longitude                      48894 non-null  float64       \n",
      " 8   room_type                      48894 non-null  object        \n",
      " 9   price                          48894 non-null  int64         \n",
      " 10  minimo_noites                  48894 non-null  int64         \n",
      " 11  numero_de_reviews              48894 non-null  int64         \n",
      " 12  ultima_review                  38842 non-null  datetime64[ns]\n",
      " 13  reviews_por_mes                48894 non-null  float64       \n",
      " 14  calculado_host_listings_count  48894 non-null  int64         \n",
      " 15  disponibilidade_365            48894 non-null  int64         \n",
      "dtypes: datetime64[ns](1), float64(3), int64(7), object(5)\n",
      "memory usage: 6.0+ MB\n"
     ]
    }
   ],
   "source": [
    "apartamentos['nome'] = apartamentos['nome'].fillna('')\n",
    "apartamentos['host_name'] = apartamentos['host_name'].fillna(apartamentos[\"host_id\"].astype(str))\n",
    "apartamentos['reviews_por_mes'] = apartamentos['reviews_por_mes'].fillna(0)\n",
    "apartamentos.info()"
   ]
  },
  {
   "cell_type": "markdown",
   "metadata": {},
   "source": [
    "### 1.2. Busca de outliers"
   ]
  },
  {
   "cell_type": "markdown",
   "metadata": {},
   "source": [
    "Analisando estatísticas sobre cada coluna a fim de encontrar dados destoantes e potencialmente prejudiciais às análises:"
   ]
  },
  {
   "cell_type": "code",
   "execution_count": 316,
   "metadata": {},
   "outputs": [
    {
     "data": {
      "text/html": [
       "<div>\n",
       "<style scoped>\n",
       "    .dataframe tbody tr th:only-of-type {\n",
       "        vertical-align: middle;\n",
       "    }\n",
       "\n",
       "    .dataframe tbody tr th {\n",
       "        vertical-align: top;\n",
       "    }\n",
       "\n",
       "    .dataframe thead th {\n",
       "        text-align: right;\n",
       "    }\n",
       "</style>\n",
       "<table border=\"1\" class=\"dataframe\">\n",
       "  <thead>\n",
       "    <tr style=\"text-align: right;\">\n",
       "      <th></th>\n",
       "      <th>id</th>\n",
       "      <th>host_id</th>\n",
       "      <th>latitude</th>\n",
       "      <th>longitude</th>\n",
       "      <th>price</th>\n",
       "      <th>minimo_noites</th>\n",
       "      <th>numero_de_reviews</th>\n",
       "      <th>ultima_review</th>\n",
       "      <th>reviews_por_mes</th>\n",
       "      <th>calculado_host_listings_count</th>\n",
       "      <th>disponibilidade_365</th>\n",
       "    </tr>\n",
       "  </thead>\n",
       "  <tbody>\n",
       "    <tr>\n",
       "      <th>count</th>\n",
       "      <td>4.889400e+04</td>\n",
       "      <td>4.889400e+04</td>\n",
       "      <td>48894.000000</td>\n",
       "      <td>48894.000000</td>\n",
       "      <td>48894.000000</td>\n",
       "      <td>48894.000000</td>\n",
       "      <td>48894.000000</td>\n",
       "      <td>38842</td>\n",
       "      <td>48894.000000</td>\n",
       "      <td>48894.000000</td>\n",
       "      <td>48894.000000</td>\n",
       "    </tr>\n",
       "    <tr>\n",
       "      <th>mean</th>\n",
       "      <td>1.901753e+07</td>\n",
       "      <td>6.762139e+07</td>\n",
       "      <td>40.728951</td>\n",
       "      <td>-73.952169</td>\n",
       "      <td>152.720763</td>\n",
       "      <td>7.030085</td>\n",
       "      <td>23.274758</td>\n",
       "      <td>2018-10-04 01:46:50.710055936</td>\n",
       "      <td>1.090928</td>\n",
       "      <td>7.144005</td>\n",
       "      <td>112.776169</td>\n",
       "    </tr>\n",
       "    <tr>\n",
       "      <th>min</th>\n",
       "      <td>2.595000e+03</td>\n",
       "      <td>2.438000e+03</td>\n",
       "      <td>40.499790</td>\n",
       "      <td>-74.244420</td>\n",
       "      <td>0.000000</td>\n",
       "      <td>1.000000</td>\n",
       "      <td>0.000000</td>\n",
       "      <td>2011-03-28 00:00:00</td>\n",
       "      <td>0.000000</td>\n",
       "      <td>1.000000</td>\n",
       "      <td>0.000000</td>\n",
       "    </tr>\n",
       "    <tr>\n",
       "      <th>25%</th>\n",
       "      <td>9.472371e+06</td>\n",
       "      <td>7.822737e+06</td>\n",
       "      <td>40.690100</td>\n",
       "      <td>-73.983070</td>\n",
       "      <td>69.000000</td>\n",
       "      <td>1.000000</td>\n",
       "      <td>1.000000</td>\n",
       "      <td>2018-07-08 00:00:00</td>\n",
       "      <td>0.040000</td>\n",
       "      <td>1.000000</td>\n",
       "      <td>0.000000</td>\n",
       "    </tr>\n",
       "    <tr>\n",
       "      <th>50%</th>\n",
       "      <td>1.967743e+07</td>\n",
       "      <td>3.079553e+07</td>\n",
       "      <td>40.723075</td>\n",
       "      <td>-73.955680</td>\n",
       "      <td>106.000000</td>\n",
       "      <td>3.000000</td>\n",
       "      <td>5.000000</td>\n",
       "      <td>2019-05-19 00:00:00</td>\n",
       "      <td>0.370000</td>\n",
       "      <td>1.000000</td>\n",
       "      <td>45.000000</td>\n",
       "    </tr>\n",
       "    <tr>\n",
       "      <th>75%</th>\n",
       "      <td>2.915225e+07</td>\n",
       "      <td>1.074344e+08</td>\n",
       "      <td>40.763117</td>\n",
       "      <td>-73.936273</td>\n",
       "      <td>175.000000</td>\n",
       "      <td>5.000000</td>\n",
       "      <td>24.000000</td>\n",
       "      <td>2019-06-23 00:00:00</td>\n",
       "      <td>1.580000</td>\n",
       "      <td>2.000000</td>\n",
       "      <td>227.000000</td>\n",
       "    </tr>\n",
       "    <tr>\n",
       "      <th>max</th>\n",
       "      <td>3.648724e+07</td>\n",
       "      <td>2.743213e+08</td>\n",
       "      <td>40.913060</td>\n",
       "      <td>-73.712990</td>\n",
       "      <td>10000.000000</td>\n",
       "      <td>1250.000000</td>\n",
       "      <td>629.000000</td>\n",
       "      <td>2019-07-08 00:00:00</td>\n",
       "      <td>58.500000</td>\n",
       "      <td>327.000000</td>\n",
       "      <td>365.000000</td>\n",
       "    </tr>\n",
       "    <tr>\n",
       "      <th>std</th>\n",
       "      <td>1.098288e+07</td>\n",
       "      <td>7.861118e+07</td>\n",
       "      <td>0.054529</td>\n",
       "      <td>0.046157</td>\n",
       "      <td>240.156625</td>\n",
       "      <td>20.510741</td>\n",
       "      <td>44.550991</td>\n",
       "      <td>NaN</td>\n",
       "      <td>1.597294</td>\n",
       "      <td>32.952855</td>\n",
       "      <td>131.618692</td>\n",
       "    </tr>\n",
       "  </tbody>\n",
       "</table>\n",
       "</div>"
      ],
      "text/plain": [
       "                 id       host_id      latitude     longitude         price  \\\n",
       "count  4.889400e+04  4.889400e+04  48894.000000  48894.000000  48894.000000   \n",
       "mean   1.901753e+07  6.762139e+07     40.728951    -73.952169    152.720763   \n",
       "min    2.595000e+03  2.438000e+03     40.499790    -74.244420      0.000000   \n",
       "25%    9.472371e+06  7.822737e+06     40.690100    -73.983070     69.000000   \n",
       "50%    1.967743e+07  3.079553e+07     40.723075    -73.955680    106.000000   \n",
       "75%    2.915225e+07  1.074344e+08     40.763117    -73.936273    175.000000   \n",
       "max    3.648724e+07  2.743213e+08     40.913060    -73.712990  10000.000000   \n",
       "std    1.098288e+07  7.861118e+07      0.054529      0.046157    240.156625   \n",
       "\n",
       "       minimo_noites  numero_de_reviews                  ultima_review  \\\n",
       "count   48894.000000       48894.000000                          38842   \n",
       "mean        7.030085          23.274758  2018-10-04 01:46:50.710055936   \n",
       "min         1.000000           0.000000            2011-03-28 00:00:00   \n",
       "25%         1.000000           1.000000            2018-07-08 00:00:00   \n",
       "50%         3.000000           5.000000            2019-05-19 00:00:00   \n",
       "75%         5.000000          24.000000            2019-06-23 00:00:00   \n",
       "max      1250.000000         629.000000            2019-07-08 00:00:00   \n",
       "std        20.510741          44.550991                            NaN   \n",
       "\n",
       "       reviews_por_mes  calculado_host_listings_count  disponibilidade_365  \n",
       "count     48894.000000                   48894.000000         48894.000000  \n",
       "mean          1.090928                       7.144005           112.776169  \n",
       "min           0.000000                       1.000000             0.000000  \n",
       "25%           0.040000                       1.000000             0.000000  \n",
       "50%           0.370000                       1.000000            45.000000  \n",
       "75%           1.580000                       2.000000           227.000000  \n",
       "max          58.500000                     327.000000           365.000000  \n",
       "std           1.597294                      32.952855           131.618692  "
      ]
     },
     "execution_count": 316,
     "metadata": {},
     "output_type": "execute_result"
    }
   ],
   "source": [
    "apartamentos.describe()"
   ]
  },
  {
   "cell_type": "markdown",
   "metadata": {},
   "source": [
    "A partir desta tabela é possível observar que:\n",
    "- Há apartamentos com preço igual a 0\n",
    "- Há apartamentos com preços que se destoam muito\n",
    "- Há poucos apartamentos com um número mínimo de noites altíssimo\n",
    "- Há apartamentos que não estão disponíveis em nenhum dia\n",
    "- Há poucos hospedeiros com um número de listagens muito mais alto que o geral"
   ]
  },
  {
   "cell_type": "markdown",
   "metadata": {},
   "source": [
    "#### 1.2.1. Buscando outliers no preço"
   ]
  },
  {
   "cell_type": "markdown",
   "metadata": {},
   "source": [
    "Analisando os apartamentos com o preço igual a zero para tentar encontrar alguma justificativa:"
   ]
  },
  {
   "cell_type": "code",
   "execution_count": 317,
   "metadata": {},
   "outputs": [
    {
     "data": {
      "text/html": [
       "<div>\n",
       "<style scoped>\n",
       "    .dataframe tbody tr th:only-of-type {\n",
       "        vertical-align: middle;\n",
       "    }\n",
       "\n",
       "    .dataframe tbody tr th {\n",
       "        vertical-align: top;\n",
       "    }\n",
       "\n",
       "    .dataframe thead th {\n",
       "        text-align: right;\n",
       "    }\n",
       "</style>\n",
       "<table border=\"1\" class=\"dataframe\">\n",
       "  <thead>\n",
       "    <tr style=\"text-align: right;\">\n",
       "      <th></th>\n",
       "      <th>id</th>\n",
       "      <th>host_id</th>\n",
       "      <th>latitude</th>\n",
       "      <th>longitude</th>\n",
       "      <th>price</th>\n",
       "      <th>minimo_noites</th>\n",
       "      <th>numero_de_reviews</th>\n",
       "      <th>ultima_review</th>\n",
       "      <th>reviews_por_mes</th>\n",
       "      <th>calculado_host_listings_count</th>\n",
       "      <th>disponibilidade_365</th>\n",
       "    </tr>\n",
       "  </thead>\n",
       "  <tbody>\n",
       "    <tr>\n",
       "      <th>count</th>\n",
       "      <td>1.100000e+01</td>\n",
       "      <td>1.100000e+01</td>\n",
       "      <td>11.000000</td>\n",
       "      <td>11.000000</td>\n",
       "      <td>11.0</td>\n",
       "      <td>11.000000</td>\n",
       "      <td>11.000000</td>\n",
       "      <td>10</td>\n",
       "      <td>11.000000</td>\n",
       "      <td>11.000000</td>\n",
       "      <td>11.000000</td>\n",
       "    </tr>\n",
       "    <tr>\n",
       "      <th>mean</th>\n",
       "      <td>2.057179e+07</td>\n",
       "      <td>5.862573e+07</td>\n",
       "      <td>40.712058</td>\n",
       "      <td>-73.925670</td>\n",
       "      <td>0.0</td>\n",
       "      <td>7.363636</td>\n",
       "      <td>34.272727</td>\n",
       "      <td>2018-12-30 00:00:00</td>\n",
       "      <td>1.579091</td>\n",
       "      <td>4.272727</td>\n",
       "      <td>120.909091</td>\n",
       "    </tr>\n",
       "    <tr>\n",
       "      <th>min</th>\n",
       "      <td>1.875060e+07</td>\n",
       "      <td>1.641537e+06</td>\n",
       "      <td>40.681730</td>\n",
       "      <td>-73.975970</td>\n",
       "      <td>0.0</td>\n",
       "      <td>1.000000</td>\n",
       "      <td>0.000000</td>\n",
       "      <td>2017-10-27 00:00:00</td>\n",
       "      <td>0.000000</td>\n",
       "      <td>1.000000</td>\n",
       "      <td>0.000000</td>\n",
       "    </tr>\n",
       "    <tr>\n",
       "      <th>25%</th>\n",
       "      <td>2.056598e+07</td>\n",
       "      <td>1.192073e+07</td>\n",
       "      <td>40.686510</td>\n",
       "      <td>-73.943585</td>\n",
       "      <td>0.0</td>\n",
       "      <td>1.500000</td>\n",
       "      <td>2.500000</td>\n",
       "      <td>2018-05-10 06:00:00</td>\n",
       "      <td>0.130000</td>\n",
       "      <td>3.000000</td>\n",
       "      <td>14.000000</td>\n",
       "    </tr>\n",
       "    <tr>\n",
       "      <th>50%</th>\n",
       "      <td>2.063963e+07</td>\n",
       "      <td>8.632710e+07</td>\n",
       "      <td>40.692110</td>\n",
       "      <td>-73.913420</td>\n",
       "      <td>0.0</td>\n",
       "      <td>2.000000</td>\n",
       "      <td>12.000000</td>\n",
       "      <td>2019-06-04 00:00:00</td>\n",
       "      <td>0.530000</td>\n",
       "      <td>5.000000</td>\n",
       "      <td>127.000000</td>\n",
       "    </tr>\n",
       "    <tr>\n",
       "      <th>75%</th>\n",
       "      <td>2.078688e+07</td>\n",
       "      <td>9.414883e+07</td>\n",
       "      <td>40.716500</td>\n",
       "      <td>-73.910490</td>\n",
       "      <td>0.0</td>\n",
       "      <td>4.500000</td>\n",
       "      <td>74.000000</td>\n",
       "      <td>2019-06-21 18:00:00</td>\n",
       "      <td>3.420000</td>\n",
       "      <td>6.000000</td>\n",
       "      <td>199.000000</td>\n",
       "    </tr>\n",
       "    <tr>\n",
       "      <th>max</th>\n",
       "      <td>2.130432e+07</td>\n",
       "      <td>1.316976e+08</td>\n",
       "      <td>40.832960</td>\n",
       "      <td>-73.886680</td>\n",
       "      <td>0.0</td>\n",
       "      <td>30.000000</td>\n",
       "      <td>95.000000</td>\n",
       "      <td>2019-06-24 00:00:00</td>\n",
       "      <td>4.370000</td>\n",
       "      <td>6.000000</td>\n",
       "      <td>333.000000</td>\n",
       "    </tr>\n",
       "    <tr>\n",
       "      <th>std</th>\n",
       "      <td>6.767257e+05</td>\n",
       "      <td>4.828458e+07</td>\n",
       "      <td>0.045317</td>\n",
       "      <td>0.025821</td>\n",
       "      <td>0.0</td>\n",
       "      <td>11.262972</td>\n",
       "      <td>41.523706</td>\n",
       "      <td>NaN</td>\n",
       "      <td>1.906628</td>\n",
       "      <td>2.053821</td>\n",
       "      <td>112.128011</td>\n",
       "    </tr>\n",
       "  </tbody>\n",
       "</table>\n",
       "</div>"
      ],
      "text/plain": [
       "                 id       host_id   latitude  longitude  price  minimo_noites  \\\n",
       "count  1.100000e+01  1.100000e+01  11.000000  11.000000   11.0      11.000000   \n",
       "mean   2.057179e+07  5.862573e+07  40.712058 -73.925670    0.0       7.363636   \n",
       "min    1.875060e+07  1.641537e+06  40.681730 -73.975970    0.0       1.000000   \n",
       "25%    2.056598e+07  1.192073e+07  40.686510 -73.943585    0.0       1.500000   \n",
       "50%    2.063963e+07  8.632710e+07  40.692110 -73.913420    0.0       2.000000   \n",
       "75%    2.078688e+07  9.414883e+07  40.716500 -73.910490    0.0       4.500000   \n",
       "max    2.130432e+07  1.316976e+08  40.832960 -73.886680    0.0      30.000000   \n",
       "std    6.767257e+05  4.828458e+07   0.045317   0.025821    0.0      11.262972   \n",
       "\n",
       "       numero_de_reviews        ultima_review  reviews_por_mes  \\\n",
       "count          11.000000                   10        11.000000   \n",
       "mean           34.272727  2018-12-30 00:00:00         1.579091   \n",
       "min             0.000000  2017-10-27 00:00:00         0.000000   \n",
       "25%             2.500000  2018-05-10 06:00:00         0.130000   \n",
       "50%            12.000000  2019-06-04 00:00:00         0.530000   \n",
       "75%            74.000000  2019-06-21 18:00:00         3.420000   \n",
       "max            95.000000  2019-06-24 00:00:00         4.370000   \n",
       "std            41.523706                  NaN         1.906628   \n",
       "\n",
       "       calculado_host_listings_count  disponibilidade_365  \n",
       "count                      11.000000            11.000000  \n",
       "mean                        4.272727           120.909091  \n",
       "min                         1.000000             0.000000  \n",
       "25%                         3.000000            14.000000  \n",
       "50%                         5.000000           127.000000  \n",
       "75%                         6.000000           199.000000  \n",
       "max                         6.000000           333.000000  \n",
       "std                         2.053821           112.128011  "
      ]
     },
     "execution_count": 317,
     "metadata": {},
     "output_type": "execute_result"
    }
   ],
   "source": [
    "# Apartamentos com preço igual a 0\n",
    "apartamentos[apartamentos['price'] == 0].describe()"
   ]
  },
  {
   "cell_type": "markdown",
   "metadata": {},
   "source": [
    "Como não foi possível encontrar nenhum padrão muito diferente dos outros apartamentos, eles serão retirados da análise, já que podem interferir nos cálculos de como cada variável interfere no preço:"
   ]
  },
  {
   "cell_type": "code",
   "execution_count": 318,
   "metadata": {},
   "outputs": [
    {
     "data": {
      "text/plain": [
       "count    48883.000000\n",
       "mean       152.755130\n",
       "std        240.172716\n",
       "min         10.000000\n",
       "25%         69.000000\n",
       "50%        106.000000\n",
       "75%        175.000000\n",
       "max      10000.000000\n",
       "Name: price, dtype: float64"
      ]
     },
     "execution_count": 318,
     "metadata": {},
     "output_type": "execute_result"
    }
   ],
   "source": [
    "apartamentos = apartamentos[apartamentos['price'] > 0]\n",
    "apartamentos['price'].describe()"
   ]
  },
  {
   "cell_type": "markdown",
   "metadata": {},
   "source": [
    "Agora será feito a análise dos apartamentos cujo preço se destoa muito dos demais, afim de descobrir se isso pode ser um erro ou se esses apartamentos realmente valem mais do que os outros."
   ]
  },
  {
   "cell_type": "markdown",
   "metadata": {},
   "source": [
    "Para isso, serão selecionados os apartamentos que se destoam a partir do cálculo do [intervalo interquartil](https://study-com.translate.goog/academy/lesson/interquartile-range-definition-formula-example.html?_x_tr_sl=en&_x_tr_tl=pt&_x_tr_hl=pt&_x_tr_pto=wa):"
   ]
  },
  {
   "cell_type": "code",
   "execution_count": 319,
   "metadata": {},
   "outputs": [
    {
     "data": {
      "text/plain": [
       "'Os outliers estão abaixo de -90.0 e acima de 334.0, sendo o IQR = 106.0'"
      ]
     },
     "execution_count": 319,
     "metadata": {},
     "output_type": "execute_result"
    }
   ],
   "source": [
    "Q1 = apartamentos['price'].quantile(0.25)\n",
    "Q3 = apartamentos['price'].quantile(0.75)\n",
    "IQR = Q3 - Q1\n",
    "\n",
    "minimo = Q1 - 1.5 * IQR\n",
    "maximo = Q3 + 1.5 * IQR\n",
    "\n",
    "f'''Os outliers estão abaixo de {minimo} e acima de {maximo}, sendo o IQR = {IQR}'''"
   ]
  },
  {
   "cell_type": "code",
   "execution_count": 320,
   "metadata": {},
   "outputs": [
    {
     "data": {
      "text/plain": [
       "'2972 apartamentos são outliers, representando 6.08% do total'"
      ]
     },
     "execution_count": 320,
     "metadata": {},
     "output_type": "execute_result"
    }
   ],
   "source": [
    "# Ignorando os outliers abaixo do mínimo pois não há apartamentos com preço negativo\n",
    "outliers = apartamentos[apartamentos['price'] > maximo]\n",
    "qtd_outliers = len(outliers)\n",
    "qtd_apartamentos = len(apartamentos)\n",
    "\n",
    "f'{qtd_outliers} apartamentos são outliers, representando {qtd_outliers/qtd_apartamentos:.2%} do total'"
   ]
  },
  {
   "cell_type": "markdown",
   "metadata": {},
   "source": [
    "Uma boa forma de saber se esses preços fazem sentido é comparar com a média do bairro:"
   ]
  },
  {
   "cell_type": "code",
   "execution_count": 321,
   "metadata": {},
   "outputs": [
    {
     "data": {
      "text/html": [
       "<div>\n",
       "<style scoped>\n",
       "    .dataframe tbody tr th:only-of-type {\n",
       "        vertical-align: middle;\n",
       "    }\n",
       "\n",
       "    .dataframe tbody tr th {\n",
       "        vertical-align: top;\n",
       "    }\n",
       "\n",
       "    .dataframe thead th {\n",
       "        text-align: right;\n",
       "    }\n",
       "</style>\n",
       "<table border=\"1\" class=\"dataframe\">\n",
       "  <thead>\n",
       "    <tr style=\"text-align: right;\">\n",
       "      <th></th>\n",
       "      <th>nome</th>\n",
       "      <th>room_type</th>\n",
       "      <th>bairro</th>\n",
       "      <th>price</th>\n",
       "      <th>price_media_bairro</th>\n",
       "      <th>diff_media_bairro</th>\n",
       "      <th>proporcao</th>\n",
       "    </tr>\n",
       "  </thead>\n",
       "  <tbody>\n",
       "    <tr>\n",
       "      <th>540</th>\n",
       "      <td>Furnished room in Astoria apartment</td>\n",
       "      <td>Private room</td>\n",
       "      <td>Astoria</td>\n",
       "      <td>10000</td>\n",
       "      <td>117.187778</td>\n",
       "      <td>9882.812222</td>\n",
       "      <td>85.333131</td>\n",
       "    </tr>\n",
       "    <tr>\n",
       "      <th>424</th>\n",
       "      <td>Spanish Harlem Apt</td>\n",
       "      <td>Entire home/apt</td>\n",
       "      <td>East Harlem</td>\n",
       "      <td>9999</td>\n",
       "      <td>133.198747</td>\n",
       "      <td>9865.801253</td>\n",
       "      <td>75.068274</td>\n",
       "    </tr>\n",
       "    <tr>\n",
       "      <th>2619</th>\n",
       "      <td>Gem of east Flatbush</td>\n",
       "      <td>Private room</td>\n",
       "      <td>East Flatbush</td>\n",
       "      <td>7500</td>\n",
       "      <td>104.222000</td>\n",
       "      <td>7395.778000</td>\n",
       "      <td>71.961774</td>\n",
       "    </tr>\n",
       "    <tr>\n",
       "      <th>949</th>\n",
       "      <td>Luxury 1 bedroom apt. -stunning Manhattan views</td>\n",
       "      <td>Entire home/apt</td>\n",
       "      <td>Greenpoint</td>\n",
       "      <td>10000</td>\n",
       "      <td>144.952424</td>\n",
       "      <td>9855.047576</td>\n",
       "      <td>68.988153</td>\n",
       "    </tr>\n",
       "    <tr>\n",
       "      <th>701</th>\n",
       "      <td>Quiet, Clean, Lit @ LES &amp; Chinatown</td>\n",
       "      <td>Private room</td>\n",
       "      <td>Lower East Side</td>\n",
       "      <td>9999</td>\n",
       "      <td>186.312843</td>\n",
       "      <td>9812.687157</td>\n",
       "      <td>53.667798</td>\n",
       "    </tr>\n",
       "    <tr>\n",
       "      <th>...</th>\n",
       "      <td>...</td>\n",
       "      <td>...</td>\n",
       "      <td>...</td>\n",
       "      <td>...</td>\n",
       "      <td>...</td>\n",
       "      <td>...</td>\n",
       "      <td>...</td>\n",
       "    </tr>\n",
       "    <tr>\n",
       "      <th>2922</th>\n",
       "      <td>HUGE Tribeca/SOHO Loft - 2,200 Square Feet!!</td>\n",
       "      <td>Private room</td>\n",
       "      <td>Tribeca</td>\n",
       "      <td>500</td>\n",
       "      <td>490.638418</td>\n",
       "      <td>9.361582</td>\n",
       "      <td>1.019080</td>\n",
       "    </tr>\n",
       "    <tr>\n",
       "      <th>1508</th>\n",
       "      <td>The \"TriBeCa Loft\" #5 | A brand New 2 beds Loft</td>\n",
       "      <td>Entire home/apt</td>\n",
       "      <td>Tribeca</td>\n",
       "      <td>499</td>\n",
       "      <td>490.638418</td>\n",
       "      <td>8.361582</td>\n",
       "      <td>1.017042</td>\n",
       "    </tr>\n",
       "    <tr>\n",
       "      <th>1507</th>\n",
       "      <td>The \"TriBeCa LOFT\" #3 | A stylish 2 bed apt</td>\n",
       "      <td>Entire home/apt</td>\n",
       "      <td>Tribeca</td>\n",
       "      <td>499</td>\n",
       "      <td>490.638418</td>\n",
       "      <td>8.361582</td>\n",
       "      <td>1.017042</td>\n",
       "    </tr>\n",
       "    <tr>\n",
       "      <th>1422</th>\n",
       "      <td>Prime Tribeca Loft</td>\n",
       "      <td>Entire home/apt</td>\n",
       "      <td>Tribeca</td>\n",
       "      <td>499</td>\n",
       "      <td>490.638418</td>\n",
       "      <td>8.361582</td>\n",
       "      <td>1.017042</td>\n",
       "    </tr>\n",
       "    <tr>\n",
       "      <th>1411</th>\n",
       "      <td>3.7 MLN usd 2 bedroom LOFT in TriBeCa (5)</td>\n",
       "      <td>Entire home/apt</td>\n",
       "      <td>Tribeca</td>\n",
       "      <td>497</td>\n",
       "      <td>490.638418</td>\n",
       "      <td>6.361582</td>\n",
       "      <td>1.012966</td>\n",
       "    </tr>\n",
       "  </tbody>\n",
       "</table>\n",
       "<p>2942 rows × 7 columns</p>\n",
       "</div>"
      ],
      "text/plain": [
       "                                                 nome        room_type  \\\n",
       "540               Furnished room in Astoria apartment     Private room   \n",
       "424                                Spanish Harlem Apt  Entire home/apt   \n",
       "2619                             Gem of east Flatbush     Private room   \n",
       "949   Luxury 1 bedroom apt. -stunning Manhattan views  Entire home/apt   \n",
       "701               Quiet, Clean, Lit @ LES & Chinatown     Private room   \n",
       "...                                               ...              ...   \n",
       "2922     HUGE Tribeca/SOHO Loft - 2,200 Square Feet!!     Private room   \n",
       "1508  The \"TriBeCa Loft\" #5 | A brand New 2 beds Loft  Entire home/apt   \n",
       "1507      The \"TriBeCa LOFT\" #3 | A stylish 2 bed apt  Entire home/apt   \n",
       "1422                               Prime Tribeca Loft  Entire home/apt   \n",
       "1411        3.7 MLN usd 2 bedroom LOFT in TriBeCa (5)  Entire home/apt   \n",
       "\n",
       "               bairro  price  price_media_bairro  diff_media_bairro  proporcao  \n",
       "540           Astoria  10000          117.187778        9882.812222  85.333131  \n",
       "424       East Harlem   9999          133.198747        9865.801253  75.068274  \n",
       "2619    East Flatbush   7500          104.222000        7395.778000  71.961774  \n",
       "949        Greenpoint  10000          144.952424        9855.047576  68.988153  \n",
       "701   Lower East Side   9999          186.312843        9812.687157  53.667798  \n",
       "...               ...    ...                 ...                ...        ...  \n",
       "2922          Tribeca    500          490.638418           9.361582   1.019080  \n",
       "1508          Tribeca    499          490.638418           8.361582   1.017042  \n",
       "1507          Tribeca    499          490.638418           8.361582   1.017042  \n",
       "1422          Tribeca    499          490.638418           8.361582   1.017042  \n",
       "1411          Tribeca    497          490.638418           6.361582   1.012966  \n",
       "\n",
       "[2942 rows x 7 columns]"
      ]
     },
     "execution_count": 321,
     "metadata": {},
     "output_type": "execute_result"
    }
   ],
   "source": [
    "# Calcula preço médio por bairro\n",
    "preco_medio_bairro = apartamentos.groupby('bairro')['price'].mean()\n",
    "\n",
    "# Calcula a diferença e a proporção entre o preço do apartamento e o preço médio do bairro\n",
    "outliers_bairro = outliers.merge(preco_medio_bairro, on=\"bairro\", suffixes=(\"\", \"_media_bairro\"))\n",
    "outliers_bairro[\"diff_media_bairro\"] = outliers_bairro[\"price\"] - outliers_bairro[\"price_media_bairro\"]\n",
    "outliers_bairro[\"proporcao\"] = outliers_bairro[\"price\"] / outliers_bairro[\"price_media_bairro\"]\n",
    "\n",
    "# Seleciona apenas os que estão acima da média do bairro\n",
    "outliers_bairro = outliers_bairro[outliers_bairro['diff_media_bairro'] > 0]\n",
    "\n",
    "# Ordena os outliers por diferença de preço\n",
    "outliers_bairro = outliers_bairro.sort_values(by=\"proporcao\", ascending=False)\n",
    "\n",
    "outliers_bairro[['nome', 'room_type', 'bairro', 'price', 'price_media_bairro', 'diff_media_bairro', 'proporcao']]"
   ]
  },
  {
   "cell_type": "markdown",
   "metadata": {},
   "source": [
    "A partir dessa análise é possível identificar que há apartamentos até 80 vezes mais caros que a média do bairro, o que é um forte de indício de erro, ou então de imóveis extremamente luxuosos em relação ao resto do bairro."
   ]
  },
  {
   "cell_type": "markdown",
   "metadata": {},
   "source": [
    "Para evitar distorções estatísticas, serão removidos da análise os apartamentos em que o preço é mais de 4 vezes maior que a média do bairro:"
   ]
  },
  {
   "cell_type": "code",
   "execution_count": 322,
   "metadata": {},
   "outputs": [
    {
     "data": {
      "text/plain": [
       "count    48298.000000\n",
       "mean       137.557187\n",
       "std        107.387599\n",
       "min         10.000000\n",
       "25%         69.000000\n",
       "50%        105.000000\n",
       "75%        175.000000\n",
       "max       1500.000000\n",
       "Name: price, dtype: float64"
      ]
     },
     "execution_count": 322,
     "metadata": {},
     "output_type": "execute_result"
    }
   ],
   "source": [
    "grandes_outliers = outliers_bairro[outliers_bairro['proporcao'] > 4]\n",
    "apartamentos = apartamentos[~apartamentos['id'].isin(grandes_outliers['id'])]\n",
    "apartamentos['price'].describe()"
   ]
  },
  {
   "cell_type": "markdown",
   "metadata": {},
   "source": [
    "### 1.2.2. Número mínimo de noites x Disponibilidade no ano"
   ]
  },
  {
   "cell_type": "code",
   "execution_count": 331,
   "metadata": {},
   "outputs": [
    {
     "data": {
      "text/plain": [
       "17407"
      ]
     },
     "execution_count": 331,
     "metadata": {},
     "output_type": "execute_result"
    }
   ],
   "source": [
    "indisponiveis = apartamentos[apartamentos['disponibilidade_365'] == 0]\n",
    "len(indisponiveis)"
   ]
  },
  {
   "cell_type": "code",
   "execution_count": 332,
   "metadata": {},
   "outputs": [
    {
     "data": {
      "text/plain": [
       "829"
      ]
     },
     "execution_count": 332,
     "metadata": {},
     "output_type": "execute_result"
    }
   ],
   "source": [
    "disp_insuficiente = apartamentos[apartamentos['minimo_noites'] > apartamentos['disponibilidade_365']]\n",
    "len(disp_insuficiente) - len(indisponiveis)"
   ]
  },
  {
   "cell_type": "code",
   "execution_count": 338,
   "metadata": {},
   "outputs": [
    {
     "data": {
      "text/plain": [
       "'36.04% dos apartamentos estão indisponíveis e mais 1.72% dos apartamentos tem um período mínimo de noites menor que a disponibilidade no ano'"
      ]
     },
     "execution_count": 338,
     "metadata": {},
     "output_type": "execute_result"
    }
   ],
   "source": [
    "proporcao_indisponives = len(indisponiveis) / len(apartamentos)\n",
    "proporcao_disp_insuficiente = (len(disp_insuficiente) - len(indisponiveis)) / len(apartamentos)\n",
    "\n",
    "f'{proporcao_indisponives:.2%} dos apartamentos estão indisponíveis e mais \\\n",
    "{proporcao_disp_insuficiente:.2%} dos apartamentos tem um período mínimo de noites menor que a disponibilidade no ano'"
   ]
  },
  {
   "cell_type": "markdown",
   "metadata": {},
   "source": [
    "Apesar de haver tantos apartamentos indisponíveis, é natural que isso aconteça e por ser uma quantidade tão grande serão importantes para a análise de preço, logo não serão retirados."
   ]
  },
  {
   "cell_type": "markdown",
   "metadata": {},
   "source": [
    "## 2. Adicionando mais dados"
   ]
  },
  {
   "cell_type": "code",
   "execution_count": null,
   "metadata": {},
   "outputs": [],
   "source": []
  },
  {
   "cell_type": "markdown",
   "metadata": {},
   "source": [
    "## 3. Correlação de variáveis com o preço"
   ]
  },
  {
   "cell_type": "code",
   "execution_count": 325,
   "metadata": {},
   "outputs": [
    {
     "data": {
      "text/plain": [
       "np.float64(147.625)"
      ]
     },
     "execution_count": 325,
     "metadata": {},
     "output_type": "execute_result"
    }
   ],
   "source": [
    "# Média de preço dos apartamentos sem nome\n",
    "media_preco_sem_nome = apartamentos[apartamentos['nome'] == '']['price'].mean()\n",
    "media_preco_sem_nome"
   ]
  }
 ],
 "metadata": {
  "kernelspec": {
   "display_name": "venv",
   "language": "python",
   "name": "python3"
  },
  "language_info": {
   "codemirror_mode": {
    "name": "ipython",
    "version": 3
   },
   "file_extension": ".py",
   "mimetype": "text/x-python",
   "name": "python",
   "nbconvert_exporter": "python",
   "pygments_lexer": "ipython3",
   "version": "3.12.8"
  }
 },
 "nbformat": 4,
 "nbformat_minor": 2
}
